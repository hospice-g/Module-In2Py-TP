{
 "cells": [
  {
   "cell_type": "code",
   "execution_count": 4,
   "id": "6e6190b4",
   "metadata": {},
   "outputs": [],
   "source": [
    "#1\n",
    "\n",
    "from math import  sin, sqrt\n",
    "\n",
    "def calcul(x,y) :\n",
    "    a = sqrt(x*x + y)\n",
    "    \n",
    "    b = 1/x + 2*sin(y)\n",
    "    \n",
    "    return a/b\n",
    "    "
   ]
  },
  {
   "cell_type": "code",
   "execution_count": 5,
   "id": "9bcbb9dc",
   "metadata": {},
   "outputs": [
    {
     "name": "stdout",
     "output_type": "stream",
     "text": [
      "Entrer la valeur de non nulle x: 2\n",
      "Entrer la valeur de y: 1\n",
      "voici la valeur numerique:  1.0564544033752508\n"
     ]
    }
   ],
   "source": [
    "x = float(input(\"Entrer la valeur de non nulle x: \"))\n",
    "x = float(x)\n",
    "if x == 0 :\n",
    "    x = float(input(\" x ne peut être nul , Entrer la valeur de  x: \"))\n",
    "    x = float(x)\n",
    "y = float(input(\"Entrer la valeur de y: \"))\n",
    "y = float(x)\n",
    "\n",
    "print(\"voici la valeur numerique: \", calcul(x,y))\n"
   ]
  },
  {
   "cell_type": "code",
   "execution_count": 19,
   "id": "18006ae9",
   "metadata": {},
   "outputs": [],
   "source": [
    "#2\n",
    "#juste la fonction \n",
    "#pour l'importation sous forme de pacquet du fichier ownpowerfn.py , on sait comment le faire\n",
    "\n",
    "def ownpowerfn(b,expo):\n",
    "    i = 1\n",
    "    temp = b\n",
    "    while i < expo :\n",
    "        b= b*temp\n",
    "        i=i+1\n",
    "    return b\n",
    "    "
   ]
  },
  {
   "cell_type": "code",
   "execution_count": 21,
   "id": "64471034",
   "metadata": {},
   "outputs": [
    {
     "name": "stdout",
     "output_type": "stream",
     "text": [
      "128\n"
     ]
    }
   ],
   "source": [
    "print(ownpowerfn(2,7))"
   ]
  },
  {
   "cell_type": "code",
   "execution_count": 24,
   "id": "60362555",
   "metadata": {},
   "outputs": [],
   "source": [
    "#3\n",
    "#a\n",
    "from math import  sin, sqrt \n",
    "\n",
    "\n",
    "def arithmetic_mean(a,b):\n",
    "    \n",
    "    return (a+b)/2\n",
    "    \n",
    "    \n",
    "    \n",
    "def geometric_mean(a,b):\n",
    "    \n",
    "    return sqrt(a*b)\n",
    "    \n"
   ]
  },
  {
   "cell_type": "code",
   "execution_count": 26,
   "id": "4b5a1e1d",
   "metadata": {},
   "outputs": [
    {
     "name": "stdout",
     "output_type": "stream",
     "text": [
      "7.483314773547883\n",
      "1.5\n"
     ]
    }
   ],
   "source": [
    "print(geometric_mean(7,8))\n",
    "print(arithmetic_mean(1,2))"
   ]
  },
  {
   "cell_type": "code",
   "execution_count": 27,
   "id": "b2c5a468",
   "metadata": {},
   "outputs": [],
   "source": [
    "#b\n",
    "def celcius_to_fahrenheit(td):\n",
    "    tf = td*1.8 + 32\n",
    "    \n",
    "    return tf \n",
    "\n",
    "def fahrenheit_to_celcius(tf):\n",
    "    td= (tf - 32)/1.8\n",
    "    return td\n"
   ]
  },
  {
   "cell_type": "code",
   "execution_count": null,
   "id": "39a235d0",
   "metadata": {},
   "outputs": [],
   "source": [
    "#c\n",
    "from math import  pi\n",
    "\n",
    "def degrees_to_radians(deg):\n",
    "    rad = deg*pi/180\n",
    "    return rad\n",
    "\n",
    "def radians_to_degrees(rad):\n",
    "    deg = rad*180/pi\n",
    "    return deg\n",
    "\n",
    "    "
   ]
  },
  {
   "cell_type": "code",
   "execution_count": null,
   "id": "cfd0b482",
   "metadata": {},
   "outputs": [],
   "source": [
    "#d \n",
    "from math import  pi\n",
    "\n",
    "def circumference_cercle(r):\n",
    "    return 2*pi*r\n",
    "\n",
    "def area_cercle(r):\n",
    "    return pi*r*r\n",
    "\n"
   ]
  },
  {
   "cell_type": "code",
   "execution_count": 29,
   "id": "8eac6f53",
   "metadata": {},
   "outputs": [
    {
     "name": "stdout",
     "output_type": "stream",
     "text": [
      "la moyenne arithmetique est :  7.5   et la moyenne geometrique est : 7.483314773547883\n",
      "la moyenne arithmetique est :  7.5   et la moyenne geometrique est : 7.483314773547883\n",
      "la moyenne arithmetique est :  7.5   et la moyenne geometrique est : 7.483314773547883\n",
      "la moyenne arithmetique est :  7.5   et la moyenne geometrique est : 7.483314773547883\n",
      "la moyenne arithmetique est :  7.5   et la moyenne geometrique est : 7.483314773547883\n",
      "la moyenne arithmetique est :  7.5   et la moyenne geometrique est : 7.483314773547883\n",
      "la moyenne arithmetique est :  7.5   et la moyenne geometrique est : 7.483314773547883\n",
      "la moyenne arithmetique est :  7.5   et la moyenne geometrique est : 7.483314773547883\n",
      "la moyenne arithmetique est :  7.5   et la moyenne geometrique est : 7.483314773547883\n",
      "la moyenne arithmetique est :  7.5   et la moyenne geometrique est : 7.483314773547883\n"
     ]
    }
   ],
   "source": [
    "#4\n",
    "#a\n",
    "from math import  sin, sqrt \n",
    "\n",
    "def moy(a,b):\n",
    "    ari = (a+b)/2\n",
    "    geo = sqrt(a*b)\n",
    "    print(\"la moyenne arithmetique est : \",ari, \"  et la moyenne geometrique est :\", geo)\n",
    "\n",
    "def avggeom(a,b):\n",
    "    for i in range(10):\n",
    "        moy(a,b)\n",
    "\n",
    "avggeom(7,8)\n"
   ]
  },
  {
   "cell_type": "code",
   "execution_count": 32,
   "id": "63f4f24d",
   "metadata": {},
   "outputs": [],
   "source": [
    "#b\n",
    "from math import  sin, sqrt\n",
    "def distancefn(a=[0,0], b=[0,0]):\n",
    "    distance = sqrt((a[0]-b[0])*(a[0]-b[0]) + (a[1]-b[1])*(a[1]-b[1]))\n",
    "    \n",
    "    return distance\n",
    "\n",
    "def perimeter_triangle(a, b,c):\n",
    "    s=0\n",
    "    s=distancefn(a,b) + distancefn(a,c)+distancefn(b,c)\n",
    "    \n",
    "    return s \n",
    "\n",
    "def aire_triangle(a,b,c):\n",
    "    p = perimeter_triangle(a, b,c)/2\n",
    "    aire = sqrt(p*(p-distancefn(a,b))*(p-distancefn(b,c))*(p-distancefn(a,c)))\n",
    "    return aire   \n",
    "    \n"
   ]
  },
  {
   "cell_type": "code",
   "execution_count": null,
   "id": "3ff9b5b7",
   "metadata": {},
   "outputs": [],
   "source": [
    "#5\n",
    "def fact(n):\n",
    "    return n*(n-1)\n",
    "print(fact(3))\n"
   ]
  },
  {
   "cell_type": "code",
   "execution_count": 38,
   "id": "fada1659",
   "metadata": {},
   "outputs": [
    {
     "data": {
      "text/plain": [
       "32"
      ]
     },
     "execution_count": 38,
     "metadata": {},
     "output_type": "execute_result"
    }
   ],
   "source": [
    "#6\n",
    "\n",
    "def power(x,n):\n",
    "    if n == 0 :\n",
    "        return 1\n",
    "    elif n==1 :\n",
    "        return x\n",
    "    else :\n",
    "        return x*power(x,n-1)\n",
    "\n",
    "power(2,5)\n",
    "        \n",
    "    "
   ]
  },
  {
   "cell_type": "code",
   "execution_count": 1,
   "id": "6b1e6e1e",
   "metadata": {},
   "outputs": [],
   "source": [
    "#7\n",
    "\n",
    "def fibonanci(n):\n",
    "    \"\"\"\n",
    "    suite de fibonanci avec la recursivité\n",
    "    dont le premier terme est 0 et le second est 1\n",
    "    \"\"\"\n",
    "    if n < 1 :\n",
    "        return 0\n",
    "    elif n ==0 :\n",
    "        return 1\n",
    "    else :\n",
    "        return fibonanci(n-1)+fibonanci(n-2)\n",
    "\n",
    "   \n",
    "\n",
    "print(fibonanci(100))"
   ]
  },
  {
   "cell_type": "code",
   "execution_count": null,
   "id": "de5610b4",
   "metadata": {},
   "outputs": [],
   "source": []
  }
 ],
 "metadata": {
  "kernelspec": {
   "display_name": "Python 3",
   "language": "python",
   "name": "python3"
  },
  "language_info": {
   "codemirror_mode": {
    "name": "ipython",
    "version": 3
   },
   "file_extension": ".py",
   "mimetype": "text/x-python",
   "name": "python",
   "nbconvert_exporter": "python",
   "pygments_lexer": "ipython3",
   "version": "3.8.5"
  }
 },
 "nbformat": 4,
 "nbformat_minor": 5
}
