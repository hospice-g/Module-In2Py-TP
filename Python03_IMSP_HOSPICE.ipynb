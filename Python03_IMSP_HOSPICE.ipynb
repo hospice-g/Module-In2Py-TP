{
 "cells": [
  {
   "cell_type": "code",
   "execution_count": 198,
   "id": "e6a1dd20",
   "metadata": {},
   "outputs": [
    {
     "name": "stdout",
     "output_type": "stream",
     "text": [
      "abuuvyzz\n"
     ]
    }
   ],
   "source": [
    "#1 \n",
    "\n",
    "#chaine1 = str(input(\"Entrer la chaine1 par ordre aphabetique :\"))\n",
    "\n",
    "#chaine2 = str(input(\"Entrer la chaine2 par ordre aphabetique :\"))\n",
    "\n",
    "\n",
    "\n",
    "def M(chaine1 , chaine2):\n",
    "    \"\"\"\n",
    "    fusionne chaine1 et chaine2 par ordre croissant, chaine1 et chaine2 etant deja triée\n",
    "    \"\"\"\n",
    "    \n",
    "    new = \"\"\n",
    "    \n",
    "    if len(chaine1) <= len(chaine2) :\n",
    "        if chaine1[len(chaine1)-1] < chaine2[0] :\n",
    "            chaine1 = chaine1 + chaine2\n",
    "            new = chaine1   \n",
    "        else:\n",
    "        \n",
    "            i =0\n",
    "            c1 = 0\n",
    "            c2 = 0\n",
    "            \n",
    "            while c1 < len(chaine1) and c2 < len(chaine2) :\n",
    "            \n",
    "                if chaine1[c1]<chaine2[c2]:         \n",
    "                    new =  new + chaine1[c1] \n",
    "                    c1 = c1 + 1\n",
    "                \n",
    "                else :\n",
    "                    new = new +chaine2[c2] \n",
    "                    c2 =c2 + 1   \n",
    "            \n",
    "            \n",
    "                     \n",
    "           \n",
    "            \n",
    "            if c1 < len(chaine1) :\n",
    "                for i in range(c1,len(chaine1)):\n",
    "                    new = new + chaine1[i]\n",
    "            \n",
    "            elif c2 < len(chaine2) :\n",
    "                for i in range(c2,len(chaine2)):\n",
    "                    new = new + chaine2[i]\n",
    "            \n",
    "    else :\n",
    "        chaine1 , chaine2 = chaine2 , chaine1\n",
    "        \n",
    "        if chaine1[len(chaine1)-1] < chaine2[0] :\n",
    "            chaine1 = chaine1 + chaine2\n",
    "            new = chaine1              \n",
    "        else:\n",
    "        \n",
    "            i =0\n",
    "            c1 = 0\n",
    "            c2 = 0\n",
    "      \n",
    "            \n",
    "            while c1 < len(chaine1) and c2 < len(chaine2) :\n",
    "            \n",
    "                if chaine1[c1]<chaine2[c2]:         \n",
    "                    new =  new + chaine1[c1] \n",
    "                    c1 = c1 + 1\n",
    "                \n",
    "                else :\n",
    "                    new = new +chaine2[c2] \n",
    "                    c2 =c2 + 1   \n",
    "            \n",
    "            \n",
    "            \n",
    "            \n",
    "            if c1 < len(chaine1) :\n",
    "                for i in range(c1,len(chaine1)):\n",
    "                    new = new + chaine1[i]\n",
    "            \n",
    "            elif c2 < len(chaine2) :\n",
    "                for i in range(c2,len(chaine2)):\n",
    "                    new = new + chaine2[i]\n",
    "    return new\n",
    "\n",
    "\n",
    "chaine1 = \"uvz\"\n",
    "chaine2 = \"abuyz\"\n",
    "\n",
    "print(M(chaine1, chaine2))\n",
    "            \n",
    "       \n",
    "    \n",
    "            \n"
   ]
  },
  {
   "cell_type": "code",
   "execution_count": 175,
   "id": "0dc0cf3d",
   "metadata": {},
   "outputs": [
    {
     "name": "stdout",
     "output_type": "stream",
     "text": [
      "abbccddd\n"
     ]
    }
   ],
   "source": [
    "print(M(\"bdd\",\"abccd\"))"
   ]
  },
  {
   "cell_type": "code",
   "execution_count": null,
   "id": "912b1424",
   "metadata": {},
   "outputs": [],
   "source": [
    "#b)  verification parfaite, mon programme tient compte du doublon aussi"
   ]
  },
  {
   "cell_type": "code",
   "execution_count": 203,
   "id": "14cc7f16",
   "metadata": {},
   "outputs": [
    {
     "name": "stdout",
     "output_type": "stream",
     "text": [
      "abcddf\n"
     ]
    }
   ],
   "source": [
    "#c Fonctio pour trier\n",
    "\n",
    "def S(chaine):\n",
    "    \"\"\"\n",
    "    trier une chaine par odre croissant des caractères\n",
    "    \"\"\"\n",
    "    ordre = \"\"\n",
    "    if len(chaine) > 0 :\n",
    "        \n",
    "        ordre = chaine[0]\n",
    "        for i in range(1,len(chaine)):\n",
    "            ordre =  M(ordre,chaine[i])\n",
    "            \n",
    "        return ordre\n",
    "                 \n",
    "       \n",
    "    else :\n",
    "        return chaine\n",
    "        \n",
    "print(S(\"dcfabd\"))\n",
    "        \n",
    "\n"
   ]
  },
  {
   "cell_type": "code",
   "execution_count": 204,
   "id": "b1f78e39",
   "metadata": {},
   "outputs": [],
   "source": [
    "#d\n",
    "\n",
    "def M_Modifier(chaine1 , chaine2):\n",
    "    \n",
    "    \"\"\"\n",
    "     version modifiée de M , avec chaine1 et chaine2 dans un ordre quelconque\n",
    "    \"\"\"\n",
    "    return M(S(chaine1),S(chaine2))\n"
   ]
  },
  {
   "cell_type": "code",
   "execution_count": 206,
   "id": "b6abfd68",
   "metadata": {},
   "outputs": [
    {
     "name": "stdout",
     "output_type": "stream",
     "text": [
      "cehiinoopst\n",
      "cehhinooppsty\n"
     ]
    }
   ],
   "source": [
    "print(M_Modifier(\"toni\",\"hospice\"))\n",
    "print(M_Modifier(\"hospice\",\"python\"))"
   ]
  },
  {
   "cell_type": "code",
   "execution_count": 229,
   "id": "022d4186",
   "metadata": {},
   "outputs": [
    {
     "name": "stdout",
     "output_type": "stream",
     "text": [
      "Entrer une phrase: Aujourd'hui je code en Python\n",
      "la première voyelle est:  A\n"
     ]
    }
   ],
   "source": [
    "#e\n",
    "\n",
    "#i \n",
    "\n",
    "def First_Voyelle():\n",
    "    \"\"\"\n",
    "    retrouver la première voyelle dans une phrase\n",
    "    \"\"\"\n",
    "    phrase = str(input(\"Entrer une phrase: \"))\n",
    "    \n",
    "    \n",
    "    V = ['a','e','o','i','u','y','A','E','O','I','U','Y']\n",
    "    \n",
    "    for i in range(len(phrase)):\n",
    "        if phrase[i] in V:\n",
    "            print(\"la première voyelle est: \",phrase[i])\n",
    "            break\n",
    "First_Voyelle()"
   ]
  },
  {
   "cell_type": "code",
   "execution_count": 16,
   "id": "74482ca8",
   "metadata": {},
   "outputs": [
    {
     "name": "stdout",
     "output_type": "stream",
     "text": [
      "Entrer une phrase: je suis content façon ce beau matin\n"
     ]
    },
    {
     "data": {
      "text/plain": [
       "13"
      ]
     },
     "execution_count": 16,
     "metadata": {},
     "output_type": "execute_result"
    }
   ],
   "source": [
    "#ii\n",
    "\n",
    "def compte():\n",
    "    \"\"\"\n",
    "    compte le nombre de voyelle qu'une phrase contient\n",
    "    \"\"\"\n",
    "    phrase = str(input(\"Entrer une phrase: \"))\n",
    "    \n",
    "    n = 0 \n",
    "    \n",
    "    V = ['a','e','o','i','u','y','A','E','O','I','U','Y']\n",
    "    \n",
    "    for i in range(len(V)):\n",
    "        n = n + phrase.count(V[i])\n",
    "        \n",
    "    return n\n",
    "        \n",
    "compte()\n",
    "    \n"
   ]
  },
  {
   "cell_type": "code",
   "execution_count": 21,
   "id": "e4b40aa2",
   "metadata": {},
   "outputs": [
    {
     "data": {
      "text/plain": [
       "False"
      ]
     },
     "execution_count": 21,
     "metadata": {},
     "output_type": "execute_result"
    }
   ],
   "source": [
    "def isVowel(char):\n",
    "    \"\"\"\n",
    "    la fonction teste si un caractère est une voyelle ou non\n",
    "    \"\"\"\n",
    "    \n",
    "    #char = str(input(\"Taper un caractère: \"))\n",
    "    V = ['a','e','o','i','u','y','A','E','O','I','U','Y']\n",
    "        \n",
    "    if char in V :\n",
    "        return True\n",
    "    else:\n",
    "        return False\n",
    "    \n",
    "isVowel(\"V\")\n",
    "        "
   ]
  },
  {
   "cell_type": "code",
   "execution_count": 20,
   "id": "f57f72ee",
   "metadata": {},
   "outputs": [
    {
     "name": "stdout",
     "output_type": "stream",
     "text": [
      "P\n"
     ]
    }
   ],
   "source": [
    "#iii\n",
    "\n",
    "def Uper_Letter(lettre):\n",
    "    \n",
    "    for i in  range(len(lettre)):\n",
    "        if (lettre[i] in ['0','1','2','3','4','5','6','7','8','9']) == False :\n",
    "            return lettre[i].upper()\n",
    "        else:\n",
    "            break\n",
    "        \n",
    "print(Uper_Letter(\"p\"))"
   ]
  },
  {
   "cell_type": "code",
   "execution_count": 27,
   "id": "a1f9c053",
   "metadata": {},
   "outputs": [
    {
     "name": "stdout",
     "output_type": "stream",
     "text": [
      "La voyelle  A  se retouve dans la phrase  3 fois\n",
      "La voyelle  E  se retouve dans la phrase  5 fois\n",
      "La voyelle  I  se retouve dans la phrase  4 fois\n",
      "La voyelle  O  se retouve dans la phrase  2 fois\n"
     ]
    }
   ],
   "source": [
    "#iv\n",
    "\n",
    "def NbreOccVoyelle(phrase):\n",
    "    phrase = phrase.upper()\n",
    "    for i in ['A','E','Y','U','I','O']:\n",
    "        if i in phrase:\n",
    "            print(\"La voyelle \",i,\" se retouve dans la phrase \",phrase.count(i),\"fois\")\n",
    "\n",
    "NbreOccVoyelle(\"il est 5h et Hospice a maintenant sommeil\")"
   ]
  },
  {
   "cell_type": "code",
   "execution_count": 28,
   "id": "cc80b9cc",
   "metadata": {},
   "outputs": [
    {
     "name": "stdout",
     "output_type": "stream",
     "text": [
      "b est compté  1  fois  et c est compté  0 fois\n"
     ]
    }
   ],
   "source": [
    "#v\n",
    "\n",
    "def NbreApparition(phrase):\n",
    "    b = phrase.count('b') + phrase.count('B')\n",
    "    c = phrase.count('c') + phrase.count('C')\n",
    "    \n",
    "    print(\"b est compté \", b, \" fois  et c est compté \",c,\"fois\")\n",
    "\n",
    "NbreApparition(\"julien bonjour\")\n"
   ]
  },
  {
   "cell_type": "code",
   "execution_count": 42,
   "id": "c621f09a",
   "metadata": {},
   "outputs": [
    {
     "name": "stdout",
     "output_type": "stream",
     "text": [
      " Je Dois Aller Dormir Un Peu\n"
     ]
    }
   ],
   "source": [
    "#vi\n",
    "\n",
    "def recriture(phrase):\n",
    "    \"\"\"\n",
    "    on lit une phrase et on transforme la premiere lettre de chaque mot en majuscule\n",
    "    \"\"\"\n",
    "    new = \"\"\n",
    "    espace=\" \"\n",
    "    f = ''\n",
    "    \n",
    "    liste = phrase.split()\n",
    "    \n",
    "    for i in liste:\n",
    "        f=i[0].upper()\n",
    "        for j in range(len(i)-1):\n",
    "            f = f + i[j+1]         \n",
    "        new = new +espace + f\n",
    "        f=''\n",
    "    \n",
    "    return new\n",
    "\n",
    "print(recriture(\"je dois aller dormir un peu\"))\n",
    "        \n",
    "        \n",
    "    \n"
   ]
  },
  {
   "cell_type": "code",
   "execution_count": 160,
   "id": "69df3d06",
   "metadata": {},
   "outputs": [
    {
     "name": "stdout",
     "output_type": "stream",
     "text": [
      "la phrase : << Êsope reste ici et se repose >> est un palindrome\n"
     ]
    }
   ],
   "source": [
    "#vii\n",
    "import unicodedata\n",
    "\n",
    "def Palindrome(phrase):\n",
    "    \"\"\"\n",
    "    une phrase qui garde le même sens lorsqu'en parcourant  dans les deux sens on rencontre les mêmes lettres pour \n",
    "    \"\"\"\n",
    "    phrase1 = phrase\n",
    "    phrase = phrase.upper()\n",
    "    \n",
    "    liste =[]\n",
    "    l = 0\n",
    "    for i in phrase.split():\n",
    "        for j in range(len(i)):\n",
    "            liste = liste + [i[j]]  \n",
    "            \n",
    "    i = len(liste)\n",
    "    j=0\n",
    "    while i>0 and j< i :\n",
    "        #gestion des caractères accentués\n",
    "        if unicodedata.normalize('NFKD',liste[i-1]).encode('ASCII','ignore') != unicodedata.normalize('NFKD',liste[j]).encode('ASCII','ignore'):\n",
    "            l=-1\n",
    "            break\n",
    "            \n",
    "        i = i-1\n",
    "        j = j+1\n",
    "        \n",
    "    if l == -1 :\n",
    "        print(\"la phrase : <<\",phrase1, \">> n'est pas un palindrome\")\n",
    "        \n",
    "    else:\n",
    "        print(\"la phrase : <<\",phrase1, \">> est un palindrome\")\n",
    "        \n",
    "        \n",
    "        \n",
    "Palindrome(\"Êsope reste ici et se repose\") \n",
    "\n"
   ]
  },
  {
   "cell_type": "code",
   "execution_count": 157,
   "id": "7cf777d4",
   "metadata": {},
   "outputs": [
    {
     "name": "stdout",
     "output_type": "stream",
     "text": [
      "la phrase : << La mariée ira mal >> est un palindrome\n"
     ]
    }
   ],
   "source": [
    "Palindrome(\"La mariée ira mal\") "
   ]
  },
  {
   "cell_type": "code",
   "execution_count": 158,
   "id": "4f08441e",
   "metadata": {},
   "outputs": [
    {
     "name": "stdout",
     "output_type": "stream",
     "text": [
      "la phrase : << Hopice rêve aussi >> n'est pas un palindrome\n"
     ]
    }
   ],
   "source": [
    "Palindrome(\"Hopice rêve aussi\")"
   ]
  },
  {
   "cell_type": "code",
   "execution_count": 48,
   "id": "1880d23c",
   "metadata": {},
   "outputs": [
    {
     "name": "stdout",
     "output_type": "stream",
     "text": [
      "4\n"
     ]
    }
   ],
   "source": [
    "#viii\n",
    "\n",
    "def mot(text , mot):\n",
    "    \"\"\"\n",
    "    lire un texte et un mot et dire le nombre de fois que le ot apparait dans le texte\n",
    "    \"\"\"\n",
    "    liste = text.split()\n",
    "    \n",
    "    return liste.count(mot)\n",
    "\n",
    "print(mot(\"vraiment, Python est vraiment cool, alors Python anywhere, ou bien Python everyday. Voilà les amis j'irai faire une sieste et attaquer encore Python \",'Python'))\n"
   ]
  },
  {
   "cell_type": "code",
   "execution_count": 55,
   "id": "46a4e326",
   "metadata": {},
   "outputs": [
    {
     "name": "stdout",
     "output_type": "stream",
     "text": [
      "Le score le plus bas possible est  1 et le score le plus élevé possible est  10\n",
      "\n",
      "=======================================================\n",
      "« un juge peut donner à un gymnaste  1  point »\n",
      "« un juge peut donner à un gymnaste  2  point »\n",
      "« un juge peut donner à un gymnaste  3  point »\n",
      "« un juge peut donner à un gymnaste  4  point »\n",
      "« un juge peut donner à un gymnaste  5  point »\n",
      "« un juge peut donner à un gymnaste  6  point »\n",
      "« un juge peut donner à un gymnaste  7  point »\n",
      "« un juge peut donner à un gymnaste  8  point »\n",
      "« un juge peut donner à un gymnaste  9  point »\n",
      "« un juge peut donner à un gymnaste  10  point »\n"
     ]
    }
   ],
   "source": [
    "#Scores des gymnastes\n",
    "#import random\n",
    "\n",
    "def gymnastes():\n",
    "    \n",
    "    x = tuple(range(1,11))\n",
    "    \n",
    "    print(\"Le score le plus bas possible est \",min(x),\"et le score le plus élevé possible est \" ,max(x))\n",
    "    \n",
    "    print(\"\\n=======================================================\")\n",
    "    \n",
    "    for i in x :\n",
    "        \n",
    "        print(\"« un juge peut donner à un gymnaste \",i, \" point »\")\n",
    "\n",
    "\n",
    "gymnastes()\n",
    "\n"
   ]
  },
  {
   "cell_type": "code",
   "execution_count": null,
   "id": "3c9a1bb2",
   "metadata": {},
   "outputs": [],
   "source": []
  }
 ],
 "metadata": {
  "kernelspec": {
   "display_name": "Python 3",
   "language": "python",
   "name": "python3"
  },
  "language_info": {
   "codemirror_mode": {
    "name": "ipython",
    "version": 3
   },
   "file_extension": ".py",
   "mimetype": "text/x-python",
   "name": "python",
   "nbconvert_exporter": "python",
   "pygments_lexer": "ipython3",
   "version": "3.8.5"
  }
 },
 "nbformat": 4,
 "nbformat_minor": 5
}
