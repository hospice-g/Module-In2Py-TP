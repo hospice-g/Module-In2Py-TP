{
 "cells": [
  {
   "cell_type": "code",
   "execution_count": 24,
   "id": "40299ed5",
   "metadata": {},
   "outputs": [
    {
     "name": "stdout",
     "output_type": "stream",
     "text": [
      "Ajouter un produit: disque dur\n",
      "Entrer le prix du produit25000\n",
      "Entrer le produit dont vous voulez modifier le prix: clavier\n",
      "Entrer le nouveau prix5000\n",
      "voici la liste des produit et leur prix\n",
      "\n",
      "=====================\n",
      "souris  qui se vend à  2000 FCFA\n",
      "ecran  qui se vend à  25000 FCFA\n",
      "chargeur  qui se vend à  4000 FCFA\n",
      "disque dur  qui se vend à  25000 FCFA\n",
      "clavier  qui se vend à  5000 FCFA\n"
     ]
    }
   ],
   "source": [
    "#1\n",
    "\n",
    "def listeVente(dic):\n",
    "    print(\"voici la liste des produit et leur prix\")\n",
    "    print(\"\\n=====================\")\n",
    "    for i  in dic.keys():\n",
    "        print(i,\" qui se vend à \",dic[i],\"FCFA\")\n",
    "    \n",
    "\n",
    "def ajoutProduitPrix(dic):\n",
    "    \n",
    "    produit = str(input(\"Ajouter un produit: \"))\n",
    "    prix = int(input(\"Entrer le prix du produit\"))\n",
    "    prix = int(prix)\n",
    "    \n",
    "    dic[produit] = prix \n",
    "\n",
    "    \n",
    "def modifierPrixProduit(dic):\n",
    "    produit = str(input(\"Entrer le produit dont vous voulez modifier le prix: \"))\n",
    "    prix = int(input(\"Entrer le nouveau prix\"))\n",
    "    dic[produit] = prix \n",
    "    \n",
    "def consulterPrix(dic):\n",
    "    produit = str(input(\"Entrer le produit dont vous voulez consulter le prix: \"))\n",
    "    print(dic[produit])\n",
    "    \n",
    "#test\n",
    "\n",
    "dic ={'souris':2000,'ecran':25000,'chargeur':4000}\n",
    "\n",
    "ajoutProduitPrix(dic)\n",
    "modifierPrixProduit(dic)\n",
    "listeVente(dic)\n",
    "\n"
   ]
  },
  {
   "cell_type": "code",
   "execution_count": 2,
   "id": "02628fe4",
   "metadata": {},
   "outputs": [
    {
     "name": "stdout",
     "output_type": "stream",
     "text": [
      "Entrer le num du tel95485953\n",
      "le nom du proprietaireMarcel Dg\n",
      "recherche du proprietaire de number\n",
      "Entrer le numer: 95485953\n",
      "le proprietaire du num  95485953 s'appelle Mr/Mme :  Marcel Dg\n",
      "\n",
      "voici la liste des telephone avec leur proprietaire\n",
      "\n",
      "=====================\n",
      "Hospice  her phone number is  97124431\n",
      "Mathias TIC  her phone number is  66021654\n",
      "Marcel Dg  her phone number is  95485953\n"
     ]
    }
   ],
   "source": [
    "#2\n",
    "\n",
    "def listePhone(dic):\n",
    "    print(\"\\nvoici la liste des telephone avec leur proprietaire\")\n",
    "    print(\"\\n=====================\")\n",
    "    for i  in dic.keys():\n",
    "        print(i,\" her phone number is \",dic[i])\n",
    "    \n",
    "\n",
    "def ajoutTel(dic):\n",
    "    \n",
    "    tel = int(input(\"Entrer le num du tel\"))\n",
    "    pro = str(input(\"le nom du proprietaire\"))\n",
    "    tel = int(tel)\n",
    "    \n",
    "    dic[pro] = tel\n",
    "\n",
    "    \n",
    "def rechercherTel(dic):\n",
    "    print(\"recherche du phone number\")\n",
    "    pro = str(input(\"Entrer le nom du proprietaire: \"))\n",
    "    if pro in dic.keys():\n",
    "        \n",
    "        print(\"Mr/Mme \",pro,\" a pour numero \", dic[pro]) \n",
    "    else :\n",
    "        \n",
    "        print(\"Mr/Mme \",pro,\" n'est pas dans notre liste de contact\")\n",
    "    \n",
    "\n",
    "def rechercherPro(dic):\n",
    "    print(\"recherche du proprietaire de number\")\n",
    "    num = int(input(\"Entrer le numer: \"))\n",
    "    num = int(num)\n",
    "    if num in dic.values():\n",
    "        \n",
    "        for i in dic.keys():\n",
    "            if dic[i] == num :\n",
    "                \n",
    "                search = i \n",
    "                break\n",
    "             \n",
    "        print(\"le proprietaire du num \",num,\"s'appelle Mr/Mme : \", search) \n",
    "    else:\n",
    "        \n",
    "        print(\"le num \",num,\" n' a pas été enregistré\")\n",
    "    \n",
    "dic = {'Hospice':97124431,\"Mathias TIC\":66021654}\n",
    "ajoutTel(dic)\n",
    "#rechercherTel(dic)\n",
    "rechercherPro(dic)\n",
    "listePhone(dic)"
   ]
  },
  {
   "cell_type": "code",
   "execution_count": 7,
   "id": "db9b13ef",
   "metadata": {},
   "outputs": [
    {
     "name": "stdout",
     "output_type": "stream",
     "text": [
      "[4, 7, 4, 4, 11]\n"
     ]
    }
   ],
   "source": [
    "#3\n",
    "\n",
    "#definissons d'abord la fonction map\n",
    "\n",
    "def map(fonction, liste):\n",
    "    nouvelle_liste = []\n",
    "    for element in liste:\n",
    "       nouvelle_liste.append(fonction(element))\n",
    "    return nouvelle_liste\n",
    "\n",
    "lists_mot = (\"toto\",\"bonjour\",\"dona\",\"anan\",\"cool Python\")\n",
    "\n",
    "print(map(len,lists_mot))\n",
    "    "
   ]
  },
  {
   "cell_type": "code",
   "execution_count": 10,
   "id": "8730b179",
   "metadata": {},
   "outputs": [
    {
     "name": "stdout",
     "output_type": "stream",
     "text": [
      "11\n"
     ]
    }
   ],
   "source": [
    "#4\n",
    "\n",
    "def find_longest_word(liste):\n",
    "    return max(map(len,liste))\n",
    "\n",
    "lists_mot = (\"toto\",\"bonjour\",\"dona\",\"anan\",\"cool Python\")\n",
    "\n",
    "print(find_longest_word(lists_mot))\n"
   ]
  },
  {
   "cell_type": "code",
   "execution_count": 45,
   "id": "5aa8e631",
   "metadata": {},
   "outputs": [
    {
     "name": "stdout",
     "output_type": "stream",
     "text": [
      "['god', 'nytt', 'je ne connais pas montana']\n"
     ]
    }
   ],
   "source": [
    "#5\n",
    "dic={\"merry\":\"god\", \"christmas\":\"jul\", \"and\":\"och\", \"happy\":\"gott\", \"new\":\"nytt\", \"year\":\"ar\"}\n",
    "\n",
    "def transate(words):\n",
    "    return [dic[a.lower()] for a in words if a.lower() in dic.keys()]+ [\"je ne connais pas \"+a for a in words if a.lower() not in dic.keys() ]\n",
    "\n",
    "print(transate([\"merry\",\"new\",\"montana\"]))\n",
    "\n"
   ]
  },
  {
   "cell_type": "code",
   "execution_count": 11,
   "id": "fa1c8039",
   "metadata": {},
   "outputs": [
    {
     "name": "stdout",
     "output_type": "stream",
     "text": [
      "True\n"
     ]
    }
   ],
   "source": [
    "#6\n",
    "\n",
    "def is_member(a,b,x):\n",
    "    if x in a :\n",
    "        return True\n",
    "    else :\n",
    "        return False\n",
    "print(is_member([2,4,8,1],\"toni\",4))\n",
    "    "
   ]
  },
  {
   "cell_type": "code",
   "execution_count": 18,
   "id": "7db11c48",
   "metadata": {},
   "outputs": [
    {
     "name": "stdout",
     "output_type": "stream",
     "text": [
      "*****\n",
      "\n",
      "********\n",
      "\n",
      "**********\n"
     ]
    }
   ],
   "source": [
    "#7\n",
    "\n",
    "def histogramm(a, b, c):\n",
    "    l=''\n",
    "    for i in range(a) :\n",
    "        l = l+\"*\"\n",
    "    print(l)\n",
    "    l =''\n",
    "    print(\"\")\n",
    "    for i in range(b) :\n",
    "        l = l+\"*\"\n",
    "    print(l)\n",
    "    l =''\n",
    "    print('')\n",
    "    for i in range(c) :\n",
    "        l = l+\"*\"\n",
    "    print(l)\n",
    "histogramm(5,8,10)"
   ]
  },
  {
   "cell_type": "code",
   "execution_count": 37,
   "id": "7306da2c",
   "metadata": {},
   "outputs": [
    {
     "name": "stdout",
     "output_type": "stream",
     "text": [
      "name : Amour\n",
      "homework : [90.0, 97.0, 75.0, 92.0]\n",
      "quizzes : [88.0, 40.0, 94.0]\n",
      "tests : [75.0, 90.0]\n",
      "name : Paix\n",
      "homework : [100.0, 92.0, 98.0, 100.0]\n",
      "quizzes : [82.0, 83.0, 91.0]\n",
      "tests : [89.0, 97.0]\n",
      "name : Foi\n",
      "homework : [0.0, 87.0, 75.0, 22.0]\n",
      "quizzes : [0.0, 75.0, 78.0]\n",
      "tests : [100.0, 100.0]\n",
      "B\n"
     ]
    }
   ],
   "source": [
    "#8\n",
    "Amour = dict()\n",
    "Paix = dict()\n",
    "Foi = dict()\n",
    "\n",
    "Amour = {\"name\":'Amour',\"homework\":[],\"quizzes\":[],\"tests\":[]}\n",
    "\n",
    "Paix = {\"name\":'Paix',\"homework\":[],\"quizzes\":[],\"tests\":[]}\n",
    "\n",
    "Foi = {\"name\":'Foi',\"homework\":[],\"quizzes\":[],\"tests\":[]}\n",
    "\n",
    "Amour={\"name\":\"Amour\",\"homework\":[90.0,97.0,75.0,92.0],\"quizzes\":[88.0,40.0,94.0],\"tests\":[75.0,90.0]}\n",
    "Paix={\"name\":\"Paix\",\"homework\":[100.0,92.0,98.0,100.0],\"quizzes\":[82.0,83.0,91.0],\"tests\":[89.0,97.0]}\n",
    "Foi={\"name\":\"Foi\",\"homework\":[0.0,87.0,75.0,22.0],\"quizzes\":[0.0,75.0,78.0],\"tests\":[100.0,100.0]}\n",
    "\n",
    "students = [Amour,Paix,Foi]\n",
    "\n",
    "for i in students:\n",
    "    for l,m in i.items():\n",
    "        print(\"{} : {}\".format(l,m))\n",
    "\n",
    "def average(number):\n",
    "    total = sum(number)\n",
    "    return total/len(number)\n",
    "\n",
    "def get_average(student):\n",
    "    homework = average(student['homework'])\n",
    "    quizzes = average(student['quizzes'])\n",
    "    tests = average(student['tests'])\n",
    "    \n",
    "    homework = homework*0.1\n",
    "    quizzes = quizzes*0.3\n",
    "    tests = tests*0.6\n",
    "    \n",
    "    return homework + quizzes + tests\n",
    "\n",
    "\n",
    "def get_letter_grade(score):\n",
    "    \n",
    "    if score >= 90 :\n",
    "        print(\"A\")\n",
    "        \n",
    "    elif score >= 80 :\n",
    "        print(\"B\")\n",
    "        \n",
    "    elif score >= 70 :\n",
    "        print(\" C \")\n",
    "        \n",
    "    else :\n",
    "        print(\" D \")\n",
    "        \n",
    "get_letter_grade(get_average(Amour))\n",
    "    \n",
    "    \n",
    "    \n",
    "    \n",
    "    "
   ]
  },
  {
   "cell_type": "code",
   "execution_count": 38,
   "id": "a19d1852",
   "metadata": {},
   "outputs": [
    {
     "name": "stdout",
     "output_type": "stream",
     "text": [
      "Class average : 83.86666666666666\n",
      "B\n",
      "Class grade : None\n"
     ]
    }
   ],
   "source": [
    "\n",
    "def get_class_average(students):\n",
    "    ans=[]\n",
    "    for student in students :\n",
    "        ans.append(get_average(student))\n",
    "    return average(ans)\n",
    "print(\"Class_average :\", get_class_average(students))\n",
    "print(\"Class_grade :\", get_letter_grade(get_class_average(students)))\n",
    "    "
   ]
  },
  {
   "cell_type": "code",
   "execution_count": null,
   "id": "04aa87c0",
   "metadata": {},
   "outputs": [],
   "source": []
  }
 ],
 "metadata": {
  "kernelspec": {
   "display_name": "Python 3",
   "language": "python",
   "name": "python3"
  },
  "language_info": {
   "codemirror_mode": {
    "name": "ipython",
    "version": 3
   },
   "file_extension": ".py",
   "mimetype": "text/x-python",
   "name": "python",
   "nbconvert_exporter": "python",
   "pygments_lexer": "ipython3",
   "version": "3.8.5"
  }
 },
 "nbformat": 4,
 "nbformat_minor": 5
}
