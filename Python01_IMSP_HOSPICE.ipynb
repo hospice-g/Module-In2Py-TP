{
 "cells": [
  {
   "cell_type": "markdown",
   "id": "37b1c18f",
   "metadata": {},
   "source": [
    "# 1) Summations and Products\n"
   ]
  },
  {
   "cell_type": "code",
   "execution_count": 13,
   "id": "1d950ce4",
   "metadata": {},
   "outputs": [
    {
     "name": "stdout",
     "output_type": "stream",
     "text": [
      "Entrer n:2\n",
      "la somme est:  4\n",
      "le produit est:  3\n"
     ]
    }
   ],
   "source": [
    "#1\n",
    "\n",
    "#(i) somme des (i+3) i allant de 0 à n-1\n",
    "\n",
    "n= int(input(\"Entrer n:\"))\n",
    "n=int(n)\n",
    "s=0\n",
    "i=0\n",
    "while i<n :\n",
    "    if i%2 !=0 :\n",
    "        s=s+3+i\n",
    "    \n",
    "    i=i+1\n",
    "    \n",
    "##(ii) produit des (i+3) i allant de 0 à n-1\n",
    "p=1\n",
    "j=0\n",
    "while j<n :\n",
    "    if j%2 == 0 :\n",
    "         p=p*(j+3)\n",
    "    j=j+1\n",
    "       \n",
    "print(\"la somme est: \",s)\n",
    "print(\"le produit est: \",p)\n"
   ]
  },
  {
   "cell_type": "code",
   "execution_count": 17,
   "id": "1eafea08",
   "metadata": {},
   "outputs": [
    {
     "name": "stdout",
     "output_type": "stream",
     "text": [
      "Entrer un numero de jour de 0 à 6:3\n",
      "On est : jeudi\n"
     ]
    }
   ],
   "source": [
    "#2 ) Write a program that reads the number of the day of the week (from 0 to 6). If it is a\n",
    "#working day, then the program will write the name of the corresponding day. Otherwise,\n",
    "#it will write the word \"Weekend\".\n",
    "n = int(input(\"Entrer un numero de jour de 0 à 6:\"))\n",
    "n = int(n)\n",
    "days=['lundi','mardi','mercredi','jeudi','vendredi','samedi','dimanche']\n",
    "if days[n] == 'dimanche' :\n",
    "    print(\"weekend\")\n",
    "elif days[n] == 'samedi' :\n",
    "    print(\"weekend\")\n",
    "else :\n",
    "    print(\"On est :\",days[n])\n"
   ]
  },
  {
   "cell_type": "code",
   "execution_count": 19,
   "id": "93f3a247",
   "metadata": {},
   "outputs": [
    {
     "name": "stdout",
     "output_type": "stream",
     "text": [
      "Entrer un numero de mois de 0 à 11 .par ordre des mois et vous aurez le nombre de jour qu'il comporte.:6\n",
      "ce mois compte 31 jours\n"
     ]
    }
   ],
   "source": [
    "#3)Make a program that, given a month number (from 0 to 11), indicates how many days it\n",
    "#has (28, 30 or 31), ignoring the leap years\n",
    "\n",
    "n = int(input(\"Entrer un numero de mois de 0 à 11 .par ordre des mois et vous aurez le nombre de jour qu'il comporte.:\"))\n",
    "n = int(n)\n",
    "mois=['janvier','fevrier','mars','avril','mai','juin','juillet','août','septembre','octobre','novembre','decembre']\n",
    "if mois[n] == 'fevrier' :\n",
    "    print(\"ce mois compte 28 jours\")\n",
    "elif mois[n] == 'juillet' :\n",
    "    print(\"ce mois compte 31 jours\")\n",
    "elif mois[n] == 'août' :\n",
    "    print(\"ce mois compte 31 jours\")\n",
    "elif n%2 != 0 :\n",
    "    print(\"ce mois compte 31 jours\")\n",
    "elif n%2 == 0 :\n",
    "    print(\"ce mois compte 30 jours\")"
   ]
  },
  {
   "cell_type": "code",
   "execution_count": null,
   "id": "b63abb6f",
   "metadata": {},
   "outputs": [],
   "source": [
    "#4 name 3 times \n",
    "\n",
    "nom = \"hospice\"\n",
    "#version 1\n",
    "\n",
    "for i in range(3):\n",
    "    print(nom)\n",
    "    \n",
    "#print(\"=============================\") \n",
    "#version 2\n",
    "i=0\n",
    "while i < 3 :\n",
    "    print(nom)\n",
    "    i = i + 1\n",
    "\n",
    "\n",
    "\n"
   ]
  },
  {
   "cell_type": "code",
   "execution_count": null,
   "id": "bd654929",
   "metadata": {},
   "outputs": [],
   "source": [
    "#5\n",
    "\n",
    "n = int(input(\"donner le terme initial pour calculer les 15 premiers termes de fibinaci\"))\n",
    "u0 = int(n)\n",
    "\n",
    "u1 = u0\n",
    "\n",
    "temp = 0\n",
    "\n",
    "s = 0\n",
    "while n <16 :\n",
    "    s= s +u0 +u1\n",
    "    u,temp = s -temp , s\n",
    "    \n",
    "print(\"voici la somme des 15 premiers termes: \",u)\n",
    "\n"
   ]
  }
 ],
 "metadata": {
  "kernelspec": {
   "display_name": "Python 3",
   "language": "python",
   "name": "python3"
  },
  "language_info": {
   "codemirror_mode": {
    "name": "ipython",
    "version": 3
   },
   "file_extension": ".py",
   "mimetype": "text/x-python",
   "name": "python",
   "nbconvert_exporter": "python",
   "pygments_lexer": "ipython3",
   "version": "3.8.5"
  }
 },
 "nbformat": 4,
 "nbformat_minor": 5
}
