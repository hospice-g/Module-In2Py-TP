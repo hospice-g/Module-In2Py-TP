{
 "cells": [
  {
   "cell_type": "markdown",
   "id": "9364b022",
   "metadata": {},
   "source": [
    "# 1) Summations and Products\n"
   ]
  },
  {
   "cell_type": "code",
   "execution_count": 13,
   "id": "36bd4b36",
   "metadata": {},
   "outputs": [
    {
     "name": "stdout",
     "output_type": "stream",
     "text": [
      "Entrer n:2\n",
      "la somme est:  4\n",
      "le produit est:  3\n"
     ]
    }
   ],
   "source": [
    "#1\n",
    "\n",
    "#(i) somme des (i+3) i allant de 0 à n-1\n",
    "\n",
    "n= int(input(\"Entrer n:\"))\n",
    "n=int(n)\n",
    "s=0\n",
    "i=0\n",
    "while i<n :\n",
    "    if i%2 !=0 :\n",
    "        s=s+3+i\n",
    "    \n",
    "    i=i+1\n",
    "    \n",
    "##(ii) produit des (i+3) i allant de 0 à n-1\n",
    "p=1\n",
    "j=0\n",
    "while j<n :\n",
    "    if j%2 == 0 :\n",
    "         p=p*(j+3)\n",
    "    j=j+1\n",
    "       \n",
    "print(\"la somme est: \",s)\n",
    "print(\"le produit est: \",p)\n"
   ]
  },
  {
   "cell_type": "code",
   "execution_count": 17,
   "id": "e61b2595",
   "metadata": {},
   "outputs": [
    {
     "name": "stdout",
     "output_type": "stream",
     "text": [
      "Entrer un numero de jour de 0 à 6:3\n",
      "On est : jeudi\n"
     ]
    }
   ],
   "source": [
    "#2 ) Write a program that reads the number of the day of the week (from 0 to 6). If it is a\n",
    "#working day, then the program will write the name of the corresponding day. Otherwise,\n",
    "#it will write the word \"Weekend\".\n",
    "n = int(input(\"Entrer un numero de jour de 0 à 6:\"))\n",
    "n = int(n)\n",
    "days=['lundi','mardi','mercredi','jeudi','vendredi','samedi','dimanche']\n",
    "if days[n] == 'dimanche' :\n",
    "    print(\"weekend\")\n",
    "elif days[n] == 'samedi' :\n",
    "    print(\"weekend\")\n",
    "else :\n",
    "    print(\"On est :\",days[n])\n"
   ]
  },
  {
   "cell_type": "code",
   "execution_count": 3,
   "id": "c9b7a99f",
   "metadata": {},
   "outputs": [
    {
     "name": "stdout",
     "output_type": "stream",
     "text": [
      "Entrer un numero de mois de 0 à 11 .par ordre des mois et vous aurez le nombre de jour qu'il comporte.:5\n",
      "ce mois compte 30 jours\n"
     ]
    }
   ],
   "source": [
    "#3)Make a program that, given a month number (from 0 to 11), indicates how many days it\n",
    "#has (28, 30 or 31), ignoring the leap years\n",
    "\n",
    "n = int(input(\"Entrer un numero de mois de 0 à 11 .par ordre des mois et vous aurez le nombre de jour qu'il comporte.:\"))\n",
    "n = int(n)\n",
    "mois=['janvier','fevrier','mars','avril','mai','juin','juillet','août','septembre','octobre','novembre','decembre']\n",
    "if mois[n] == 'fevrier' :\n",
    "    print(\"ce mois compte 28 jours\")\n",
    "elif mois[n] == 'juillet' :\n",
    "    print(\"ce mois compte 31 jours\")\n",
    "elif mois[n] == 'août' :\n",
    "    print(\"ce mois compte 31 jours\")\n",
    "elif n%2 != 0 :\n",
    "    print(\"ce mois compte 30 jours\")\n",
    "elif n%2 == 0 :\n",
    "    print(\"ce mois compte 31 jours\")"
   ]
  },
  {
   "cell_type": "code",
   "execution_count": 5,
   "id": "00803850",
   "metadata": {},
   "outputs": [
    {
     "name": "stdout",
     "output_type": "stream",
     "text": [
      "hospice\n",
      "hospice\n",
      "hospice\n",
      "=============================\n",
      "hospice\n",
      "hospice\n",
      "hospice\n"
     ]
    }
   ],
   "source": [
    "#4 name 3 times \n",
    "\n",
    "nom = \"hospice\"\n",
    "#version 1\n",
    "\n",
    "for i in range(3):\n",
    "    print(nom)\n",
    "    \n",
    "print(\"=============================\") \n",
    "#version 2\n",
    "i=0\n",
    "while i < 3 :\n",
    "    print(nom)\n",
    "    i = i + 1\n",
    "\n",
    "\n",
    "\n"
   ]
  },
  {
   "cell_type": "code",
   "execution_count": 8,
   "id": "e4ed5b59",
   "metadata": {},
   "outputs": [
    {
     "name": "stdout",
     "output_type": "stream",
     "text": [
      "entrer n11\n",
      "entrer n20\n",
      "\n",
      " les 15 termes de la suite sont :\n",
      "1 , 0, 1, 1, 2, 3, 5, 8, 13, 21, 34, 55, 89, 144, 233, "
     ]
    }
   ],
   "source": [
    "#5\n",
    "\n",
    "n1 = int(input(\"entrer n1\"))\n",
    "n2 = int(input(\"entrer n2\"))\n",
    "n1 = int(n1)\n",
    "n2 = int(n2)\n",
    " \n",
    "print(\"\\n les 15 termes de la suite sont :\")\n",
    "print(n1, \",\", n2, end=\", \")\n",
    " \n",
    "for i in range(2, 15):\n",
    "    suivant = n1 + n2\n",
    "    print(suivant, end=\", \")\n",
    "    \n",
    "  \n",
    " \n",
    "    n1 = n2\n",
    "    n2 = suivant\n"
   ]
  },
  {
   "cell_type": "code",
   "execution_count": 10,
   "id": "e804bcee",
   "metadata": {},
   "outputs": [
    {
     "name": "stdout",
     "output_type": "stream",
     "text": [
      "entrer un entier3\n",
      "14\n"
     ]
    }
   ],
   "source": [
    "#8\n",
    "\n",
    "\n",
    "n = int(input(\"entrer un entier\"))\n",
    "\n",
    "n = int(n)\n",
    "\n",
    "#version1\n",
    "s = 0 \n",
    "j=n+1\n",
    "for i in range(1,j):\n",
    "    s = s + (i*i)\n",
    "    \n",
    "#version2\n",
    "s2 = 0 \n",
    "k = 1\n",
    "while k <= n :\n",
    "    s2 = s + (k*k)\n",
    "    k = k+1\n",
    "print(s)\n",
    "\n",
    "\n",
    "\n"
   ]
  },
  {
   "cell_type": "code",
   "execution_count": null,
   "id": "3108d8a9",
   "metadata": {},
   "outputs": [],
   "source": [
    "#9\n",
    "#a diviseur\n",
    "\n",
    "n = int(input(\"entrer un entier\"))\n",
    "\n",
    "n = int(n)\n",
    "i=1\n",
    "while i <= n :\n",
    "    if n\n"
   ]
  }
 ],
 "metadata": {
  "kernelspec": {
   "display_name": "Python 3",
   "language": "python",
   "name": "python3"
  },
  "language_info": {
   "codemirror_mode": {
    "name": "ipython",
    "version": 3
   },
   "file_extension": ".py",
   "mimetype": "text/x-python",
   "name": "python",
   "nbconvert_exporter": "python",
   "pygments_lexer": "ipython3",
   "version": "3.8.5"
  }
 },
 "nbformat": 4,
 "nbformat_minor": 5
}
